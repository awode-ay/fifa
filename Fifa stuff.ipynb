{
 "cells": [
  {
   "cell_type": "code",
   "execution_count": 1,
   "metadata": {},
   "outputs": [],
   "source": [
    "import numpy as np\n",
    "import pandas as pd\n",
    "import matplotlib.pyplot as plt\n",
    "import seaborn as sns"
   ]
  },
  {
   "cell_type": "code",
   "execution_count": 4,
   "metadata": {},
   "outputs": [
    {
     "data": {
      "text/plain": [
       "Index(['Name', 'Nationality', 'National_Position', 'National_Kit', 'Club',\n",
       "       'Club_Position', 'Club_Kit', 'Club_Joining', 'Contract_Expiry',\n",
       "       'Rating', 'Height', 'Weight', 'Preffered_Foot', 'Birth_Date', 'Age',\n",
       "       'Preffered_Position', 'Work_Rate', 'Weak_foot', 'Skill_Moves',\n",
       "       'Ball_Control', 'Dribbling', 'Marking', 'Sliding_Tackle',\n",
       "       'Standing_Tackle', 'Aggression', 'Reactions', 'Attacking_Position',\n",
       "       'Interceptions', 'Vision', 'Composure', 'Crossing', 'Short_Pass',\n",
       "       'Long_Pass', 'Acceleration', 'Speed', 'Stamina', 'Strength', 'Balance',\n",
       "       'Agility', 'Jumping', 'Heading', 'Shot_Power', 'Finishing',\n",
       "       'Long_Shots', 'Curve', 'Freekick_Accuracy', 'Penalties', 'Volleys',\n",
       "       'GK_Positioning', 'GK_Diving', 'GK_Kicking', 'GK_Handling',\n",
       "       'GK_Reflexes'],\n",
       "      dtype='object')"
      ]
     },
     "execution_count": 4,
     "metadata": {},
     "output_type": "execute_result"
    }
   ],
   "source": [
    "df = pd.read_csv(\"FullData.csv\")\n",
    "df.columns"
   ]
  },
  {
   "cell_type": "code",
   "execution_count": 8,
   "metadata": {},
   "outputs": [],
   "source": [
    "df.drop(['National_Position', 'National_Kit'],axis=1,inplace=True)"
   ]
  },
  {
   "cell_type": "code",
   "execution_count": 10,
   "metadata": {},
   "outputs": [],
   "source": [
    "df.dropna(axis=0,inplace=True)"
   ]
  },
  {
   "cell_type": "code",
   "execution_count": 14,
   "metadata": {},
   "outputs": [],
   "source": [
    "df[\"Goalkeeping Overall\"] = (df['GK_Positioning'] +df['GK_Kicking']+df['GK_Diving']+df['GK_Handling']+df['GK_Reflexes'])/5"
   ]
  },
  {
   "cell_type": "code",
   "execution_count": 35,
   "metadata": {},
   "outputs": [
    {
     "data": {
      "text/html": [
       "<div>\n",
       "<style scoped>\n",
       "    .dataframe tbody tr th:only-of-type {\n",
       "        vertical-align: middle;\n",
       "    }\n",
       "\n",
       "    .dataframe tbody tr th {\n",
       "        vertical-align: top;\n",
       "    }\n",
       "\n",
       "    .dataframe thead th {\n",
       "        text-align: right;\n",
       "    }\n",
       "</style>\n",
       "<table border=\"1\" class=\"dataframe\">\n",
       "  <thead>\n",
       "    <tr style=\"text-align: right;\">\n",
       "      <th></th>\n",
       "      <th>Name</th>\n",
       "      <th>Goalkeeping Overall</th>\n",
       "    </tr>\n",
       "  </thead>\n",
       "  <tbody>\n",
       "    <tr>\n",
       "      <th>4</th>\n",
       "      <td>Manuel Neuer</td>\n",
       "      <td>90.8</td>\n",
       "    </tr>\n",
       "    <tr>\n",
       "      <th>5</th>\n",
       "      <td>De Gea</td>\n",
       "      <td>87.2</td>\n",
       "    </tr>\n",
       "    <tr>\n",
       "      <th>30</th>\n",
       "      <td>Petr Čech</td>\n",
       "      <td>84.0</td>\n",
       "    </tr>\n",
       "  </tbody>\n",
       "</table>\n",
       "</div>"
      ],
      "text/plain": [
       "            Name  Goalkeeping Overall\n",
       "4   Manuel Neuer                 90.8\n",
       "5         De Gea                 87.2\n",
       "30     Petr Čech                 84.0"
      ]
     },
     "execution_count": 35,
     "metadata": {},
     "output_type": "execute_result"
    }
   ],
   "source": [
    "df[df[\"Goalkeeping Overall\"] > 80][[\"Name\",\"Goalkeeping Overall\"]].sort_values(\"Goalkeeping Overall\",ascending=False).nlargest(n=3,columns=\"Goalkeeping Overall\")"
   ]
  }
 ],
 "metadata": {
  "kernelspec": {
   "display_name": "Python 3",
   "language": "python",
   "name": "python3"
  },
  "language_info": {
   "codemirror_mode": {
    "name": "ipython",
    "version": 3
   },
   "file_extension": ".py",
   "mimetype": "text/x-python",
   "name": "python",
   "nbconvert_exporter": "python",
   "pygments_lexer": "ipython3",
   "version": "3.7.6"
  }
 },
 "nbformat": 4,
 "nbformat_minor": 4
}
